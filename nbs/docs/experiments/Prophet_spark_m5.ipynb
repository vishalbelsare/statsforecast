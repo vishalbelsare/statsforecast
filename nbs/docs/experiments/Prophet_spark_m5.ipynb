{
 "cells": [
  {
   "cell_type": "markdown",
   "metadata": {},
   "source": [
    "# StatsForecast ETS and Facebook Prophet on Spark (M5)\n",
    "\n",
    "> This notebook was originally executed using DataBricks"
   ]
  },
  {
   "cell_type": "markdown",
   "metadata": {},
   "source": [
    "The purpose of this notebook is to create a scalability benchmark (time and performance). To that end, Nixtla's [StatsForecast](https://github.com/Nixtla/statsforecast) (using the ETS model) is trained on the M5 dataset using spark to distribute the training. As a comparison, Facebook's [Prophet](https://github.com/facebook/prophet) model is used. \n",
    "\n",
    "An AWS cluster (mounted on databricks) of 11 instances of type m5.2xlarge (8 cores, 32 GB RAM) with runtime 10.4 LTS was used. [This](https://d1r5llqwmkrl74.cloudfront.net/notebooks/RCG/Fine_Grained_Demand_Forecasting/index.html#Fine_Grained_Demand_Forecasting_1.html) notebook was used as base case."
   ]
  },
  {
   "cell_type": "markdown",
   "metadata": {},
   "source": [
    "The example uses the [M5 dataset](https://github.com/Mcompetitions/M5-methods/blob/master/M5-Competitors-Guide.pdf). It consists of `30,490` bottom time series."
   ]
  },
  {
   "cell_type": "markdown",
   "metadata": {},
   "source": [
    "## Main results"
   ]
  },
  {
   "cell_type": "markdown",
   "metadata": {},
   "source": [
    "| Method | Time (mins) | Performance (wRMSSE) | \n",
    "|--------|------:|----------------------:|\n",
    "|StatsForecast| 7.5 | 0.68 | \n",
    "| Prophet | 18.23 | 0.77 | "
   ]
  },
  {
   "cell_type": "markdown",
   "metadata": {},
   "source": [
    "## Installing libraries"
   ]
  },
  {
   "cell_type": "code",
   "execution_count": null,
   "metadata": {},
   "outputs": [],
   "source": [
    "pip install prophet \"neuralforecast<1.0.0\" \"statsforecast[fugue]\""
   ]
  },
  {
   "cell_type": "markdown",
   "metadata": {},
   "source": [
    "## StatsForecast pipeline"
   ]
  },
  {
   "cell_type": "code",
   "execution_count": null,
   "metadata": {},
   "outputs": [
    {
     "data": {
      "text/html": [
       "<style scoped>\n",
       "  .ansiout {\n",
       "    display: block;\n",
       "    unicode-bidi: embed;\n",
       "    white-space: pre-wrap;\n",
       "    word-wrap: break-word;\n",
       "    word-break: break-all;\n",
       "    font-family: \"Source Code Pro\", \"Menlo\", monospace;;\n",
       "    font-size: 13px;\n",
       "    color: #555;\n",
       "    margin-left: 4px;\n",
       "    line-height: 19px;\n",
       "  }\n",
       "</style>\n",
       "<div class=\"ansiout\"></div>"
      ]
     },
     "metadata": {
      "application/vnd.databricks.v1+output": {
       "addedWidgets": {},
       "arguments": {},
       "data": "<div class=\"ansiout\"></div>",
       "datasetInfos": [],
       "metadata": {},
       "removedWidgets": [],
       "type": "html"
      }
     },
     "output_type": "display_data"
    }
   ],
   "source": [
    "from time import time\n",
    "\n",
    "from neuralforecast.data.datasets.m5 import M5, M5Evaluation\n",
    "from statsforecast.distributed.utils import forecast\n",
    "from statsforecast.distributed.fugue import FugueBackend\n",
    "from statsforecast.models import ETS, SeasonalNaive\n",
    "from statsforecast.core import StatsForecast\n",
    "\n",
    "from pyspark.sql import SparkSession"
   ]
  },
  {
   "cell_type": "code",
   "execution_count": null,
   "metadata": {},
   "outputs": [
    {
     "data": {
      "text/html": [
       "<style scoped>\n",
       "  .ansiout {\n",
       "    display: block;\n",
       "    unicode-bidi: embed;\n",
       "    white-space: pre-wrap;\n",
       "    word-wrap: break-word;\n",
       "    word-break: break-all;\n",
       "    font-family: \"Source Code Pro\", \"Menlo\", monospace;;\n",
       "    font-size: 13px;\n",
       "    color: #555;\n",
       "    margin-left: 4px;\n",
       "    line-height: 19px;\n",
       "  }\n",
       "</style>\n",
       "<div class=\"ansiout\"></div>"
      ]
     },
     "metadata": {
      "application/vnd.databricks.v1+output": {
       "addedWidgets": {},
       "arguments": {},
       "data": "<div class=\"ansiout\"></div>",
       "datasetInfos": [],
       "metadata": {},
       "removedWidgets": [],
       "type": "html"
      }
     },
     "output_type": "display_data"
    }
   ],
   "source": [
    "spark = SparkSession.builder.getOrCreate()\n",
    "backend = FugueBackend(spark, {\"fugue.spark.use_pandas_udf\":True})"
   ]
  },
  {
   "cell_type": "markdown",
   "metadata": {},
   "source": [
    "### Forecast"
   ]
  },
  {
   "cell_type": "markdown",
   "metadata": {},
   "source": [
    "With statsforecast you don't have to download your data. The distributed backend can handle a file with your data."
   ]
  },
  {
   "cell_type": "code",
   "execution_count": null,
   "metadata": {},
   "outputs": [
    {
     "data": {
      "text/html": [
       "<style scoped>\n",
       "  .ansiout {\n",
       "    display: block;\n",
       "    unicode-bidi: embed;\n",
       "    white-space: pre-wrap;\n",
       "    word-wrap: break-word;\n",
       "    word-break: break-all;\n",
       "    font-family: \"Source Code Pro\", \"Menlo\", monospace;;\n",
       "    font-size: 13px;\n",
       "    color: #555;\n",
       "    margin-left: 4px;\n",
       "    line-height: 19px;\n",
       "  }\n",
       "</style>\n",
       "<div class=\"ansiout\">Minutes taken by StatsForecast on a Spark cluster: 7.471468730767568\n",
       "</div>"
      ]
     },
     "metadata": {
      "application/vnd.databricks.v1+output": {
       "addedWidgets": {},
       "arguments": {},
       "data": "<div class=\"ansiout\">Minutes taken by StatsForecast on a Spark cluster: 7.471468730767568\n</div>",
       "datasetInfos": [],
       "metadata": {},
       "removedWidgets": [],
       "type": "html"
      }
     },
     "output_type": "display_data"
    }
   ],
   "source": [
    "init = time()\n",
    "ets_forecasts = backend.forecast(\n",
    "    \"s3://m5-benchmarks/data/train/m5-target.parquet\", \n",
    "    [ETS(season_length=7, model='ZAA')], \n",
    "    freq=\"D\", \n",
    "    h=28, \n",
    ").toPandas()\n",
    "end = time()\n",
    "print(f'Minutes taken by StatsForecast on a Spark cluster: {(end - init) / 60}')"
   ]
  },
  {
   "cell_type": "markdown",
   "metadata": {},
   "source": [
    "### Evaluating performance"
   ]
  },
  {
   "cell_type": "markdown",
   "metadata": {},
   "source": [
    "The M5 competition used the weighted root mean squared scaled error. You can find details of the metric [here](https://github.com/Mcompetitions/M5-methods/blob/master/M5-Competitors-Guide.pdf)."
   ]
  },
  {
   "cell_type": "code",
   "execution_count": null,
   "metadata": {},
   "outputs": [
    {
     "data": {
      "text/html": [
       "<style scoped>\n",
       "  .ansiout {\n",
       "    display: block;\n",
       "    unicode-bidi: embed;\n",
       "    white-space: pre-wrap;\n",
       "    word-wrap: break-word;\n",
       "    word-break: break-all;\n",
       "    font-family: \"Source Code Pro\", \"Menlo\", monospace;;\n",
       "    font-size: 13px;\n",
       "    color: #555;\n",
       "    margin-left: 4px;\n",
       "    line-height: 19px;\n",
       "  }\n",
       "</style>\n",
       "<div class=\"ansiout\"></div>"
      ]
     },
     "metadata": {
      "application/vnd.databricks.v1+output": {
       "addedWidgets": {},
       "arguments": {},
       "data": "<div class=\"ansiout\"></div>",
       "datasetInfos": [],
       "metadata": {},
       "removedWidgets": [],
       "type": "html"
      }
     },
     "output_type": "display_data"
    }
   ],
   "source": [
    "Y_hat = ets_forecasts.set_index(['unique_id', 'ds']).unstack()\n",
    "Y_hat = Y_hat.droplevel(0, 1).reset_index()"
   ]
  },
  {
   "cell_type": "code",
   "execution_count": null,
   "metadata": {},
   "outputs": [],
   "source": [
    "*_, S_df = M5.load('./data')\n",
    "Y_hat = S_df.merge(Y_hat, how='left', on=['unique_id'])#.drop(columns=['unique_id'])"
   ]
  },
  {
   "cell_type": "code",
   "execution_count": null,
   "metadata": {},
   "outputs": [],
   "source": [
    "wrmsse_ets = M5Evaluation.evaluate(y_hat=Y_hat, directory='./data')"
   ]
  },
  {
   "cell_type": "code",
   "execution_count": null,
   "metadata": {},
   "outputs": [
    {
     "data": {
      "text/html": [
       "<style scoped>\n",
       "  .ansiout {\n",
       "    display: block;\n",
       "    unicode-bidi: embed;\n",
       "    white-space: pre-wrap;\n",
       "    word-wrap: break-word;\n",
       "    word-break: break-all;\n",
       "    font-family: \"Source Code Pro\", \"Menlo\", monospace;;\n",
       "    font-size: 13px;\n",
       "    color: #555;\n",
       "    margin-left: 4px;\n",
       "    line-height: 19px;\n",
       "  }\n",
       "</style>\n",
       "<div class=\"ansiout\">Out[14]: </div>"
      ]
     },
     "metadata": {
      "application/vnd.databricks.v1+output": {
       "addedWidgets": {},
       "arguments": {},
       "data": "<div class=\"ansiout\">Out[14]: </div>",
       "datasetInfos": [],
       "metadata": {},
       "removedWidgets": [],
       "type": "html"
      }
     },
     "output_type": "display_data"
    },
    {
     "data": {
      "text/html": [
       "<div>\n",
       "<style scoped>\n",
       "    .dataframe tbody tr th:only-of-type {\n",
       "        vertical-align: middle;\n",
       "    }\n",
       "\n",
       "    .dataframe tbody tr th {\n",
       "        vertical-align: top;\n",
       "    }\n",
       "\n",
       "    .dataframe thead th {\n",
       "        text-align: right;\n",
       "    }\n",
       "</style>\n",
       "<table border=\"1\" class=\"dataframe\">\n",
       "  <thead>\n",
       "    <tr style=\"text-align: right;\">\n",
       "      <th></th>\n",
       "      <th>wrmsse</th>\n",
       "    </tr>\n",
       "  </thead>\n",
       "  <tbody>\n",
       "    <tr>\n",
       "      <th>Total</th>\n",
       "      <td>0.682358</td>\n",
       "    </tr>\n",
       "    <tr>\n",
       "      <th>Level1</th>\n",
       "      <td>0.449115</td>\n",
       "    </tr>\n",
       "    <tr>\n",
       "      <th>Level2</th>\n",
       "      <td>0.533754</td>\n",
       "    </tr>\n",
       "    <tr>\n",
       "      <th>Level3</th>\n",
       "      <td>0.592317</td>\n",
       "    </tr>\n",
       "    <tr>\n",
       "      <th>Level4</th>\n",
       "      <td>0.497086</td>\n",
       "    </tr>\n",
       "    <tr>\n",
       "      <th>Level5</th>\n",
       "      <td>0.572189</td>\n",
       "    </tr>\n",
       "    <tr>\n",
       "      <th>Level6</th>\n",
       "      <td>0.593880</td>\n",
       "    </tr>\n",
       "    <tr>\n",
       "      <th>Level7</th>\n",
       "      <td>0.665358</td>\n",
       "    </tr>\n",
       "    <tr>\n",
       "      <th>Level8</th>\n",
       "      <td>0.652183</td>\n",
       "    </tr>\n",
       "    <tr>\n",
       "      <th>Level9</th>\n",
       "      <td>0.734492</td>\n",
       "    </tr>\n",
       "    <tr>\n",
       "      <th>Level10</th>\n",
       "      <td>1.012633</td>\n",
       "    </tr>\n",
       "    <tr>\n",
       "      <th>Level11</th>\n",
       "      <td>0.969902</td>\n",
       "    </tr>\n",
       "    <tr>\n",
       "      <th>Level12</th>\n",
       "      <td>0.915380</td>\n",
       "    </tr>\n",
       "  </tbody>\n",
       "</table>\n",
       "</div>"
      ]
     },
     "metadata": {
      "application/vnd.databricks.v1+output": {
       "addedWidgets": {},
       "arguments": {},
       "data": "<div>\n<style scoped>\n    .dataframe tbody tr th:only-of-type {\n        vertical-align: middle;\n    }\n\n    .dataframe tbody tr th {\n        vertical-align: top;\n    }\n\n    .dataframe thead th {\n        text-align: right;\n    }\n</style>\n<table border=\"1\" class=\"dataframe\">\n  <thead>\n    <tr style=\"text-align: right;\">\n      <th></th>\n      <th>wrmsse</th>\n    </tr>\n  </thead>\n  <tbody>\n    <tr>\n      <th>Total</th>\n      <td>0.682358</td>\n    </tr>\n    <tr>\n      <th>Level1</th>\n      <td>0.449115</td>\n    </tr>\n    <tr>\n      <th>Level2</th>\n      <td>0.533754</td>\n    </tr>\n    <tr>\n      <th>Level3</th>\n      <td>0.592317</td>\n    </tr>\n    <tr>\n      <th>Level4</th>\n      <td>0.497086</td>\n    </tr>\n    <tr>\n      <th>Level5</th>\n      <td>0.572189</td>\n    </tr>\n    <tr>\n      <th>Level6</th>\n      <td>0.593880</td>\n    </tr>\n    <tr>\n      <th>Level7</th>\n      <td>0.665358</td>\n    </tr>\n    <tr>\n      <th>Level8</th>\n      <td>0.652183</td>\n    </tr>\n    <tr>\n      <th>Level9</th>\n      <td>0.734492</td>\n    </tr>\n    <tr>\n      <th>Level10</th>\n      <td>1.012633</td>\n    </tr>\n    <tr>\n      <th>Level11</th>\n      <td>0.969902</td>\n    </tr>\n    <tr>\n      <th>Level12</th>\n      <td>0.915380</td>\n    </tr>\n  </tbody>\n</table>\n</div>",
       "datasetInfos": [],
       "metadata": {},
       "removedWidgets": [],
       "textData": null,
       "type": "htmlSandbox"
      }
     },
     "output_type": "display_data"
    }
   ],
   "source": [
    "wrmsse_ets"
   ]
  },
  {
   "cell_type": "markdown",
   "metadata": {},
   "source": [
    "## Prophet pipeline"
   ]
  },
  {
   "cell_type": "code",
   "execution_count": null,
   "metadata": {},
   "outputs": [
    {
     "data": {
      "text/html": [
       "<style scoped>\n",
       "  .ansiout {\n",
       "    display: block;\n",
       "    unicode-bidi: embed;\n",
       "    white-space: pre-wrap;\n",
       "    word-wrap: break-word;\n",
       "    word-break: break-all;\n",
       "    font-family: \"Source Code Pro\", \"Menlo\", monospace;;\n",
       "    font-size: 13px;\n",
       "    color: #555;\n",
       "    margin-left: 4px;\n",
       "    line-height: 19px;\n",
       "  }\n",
       "</style>\n",
       "<div class=\"ansiout\">INFO:py4j.java_gateway:Received command c on object id p0\n",
       "INFO:py4j.java_gateway:Received command c on object id p0\n",
       "INFO:py4j.java_gateway:Received command c on object id p0\n",
       "INFO:py4j.java_gateway:Received command c on object id p0\n",
       "INFO:py4j.java_gateway:Received command c on object id p0\n",
       "INFO:py4j.java_gateway:Received command c on object id p0\n",
       "INFO:py4j.java_gateway:Received command c on object id p0\n",
       "INFO:py4j.java_gateway:Received command c on object id p0\n",
       "INFO:py4j.java_gateway:Received command c on object id p0\n",
       "INFO:py4j.java_gateway:Received command c on object id p0\n",
       "</div>"
      ]
     },
     "metadata": {
      "application/vnd.databricks.v1+output": {
       "addedWidgets": {},
       "arguments": {},
       "data": "<div class=\"ansiout\">INFO:py4j.java_gateway:Received command c on object id p0\nINFO:py4j.java_gateway:Received command c on object id p0\nINFO:py4j.java_gateway:Received command c on object id p0\nINFO:py4j.java_gateway:Received command c on object id p0\nINFO:py4j.java_gateway:Received command c on object id p0\nINFO:py4j.java_gateway:Received command c on object id p0\nINFO:py4j.java_gateway:Received command c on object id p0\nINFO:py4j.java_gateway:Received command c on object id p0\nINFO:py4j.java_gateway:Received command c on object id p0\nINFO:py4j.java_gateway:Received command c on object id p0\n</div>",
       "datasetInfos": [],
       "metadata": {},
       "removedWidgets": [],
       "type": "html"
      }
     },
     "output_type": "display_data"
    }
   ],
   "source": [
    "import logging\n",
    "from time import time\n",
    "\n",
    "import pandas as pd\n",
    "from neuralforecast.data.datasets.m5 import M5, M5Evaluation\n",
    "from prophet import Prophet\n",
    "from pyspark.sql.types import *\n",
    "\n",
    "# disable informational messages from prophet\n",
    "logging.getLogger('py4j').setLevel(logging.ERROR)"
   ]
  },
  {
   "cell_type": "markdown",
   "metadata": {},
   "source": [
    "### Download data"
   ]
  },
  {
   "cell_type": "code",
   "execution_count": null,
   "metadata": {},
   "outputs": [
    {
     "data": {
      "text/html": [
       "<style scoped>\n",
       "  .ansiout {\n",
       "    display: block;\n",
       "    unicode-bidi: embed;\n",
       "    white-space: pre-wrap;\n",
       "    word-wrap: break-word;\n",
       "    word-break: break-all;\n",
       "    font-family: \"Source Code Pro\", \"Menlo\", monospace;;\n",
       "    font-size: 13px;\n",
       "    color: #555;\n",
       "    margin-left: 4px;\n",
       "    line-height: 19px;\n",
       "  }\n",
       "</style>\n",
       "<div class=\"ansiout\"></div>"
      ]
     },
     "metadata": {
      "application/vnd.databricks.v1+output": {
       "addedWidgets": {},
       "arguments": {},
       "data": "<div class=\"ansiout\"></div>",
       "datasetInfos": [],
       "metadata": {},
       "removedWidgets": [],
       "type": "html"
      }
     },
     "output_type": "display_data"
    }
   ],
   "source": [
    "# structure of the training data set\n",
    "train_schema = StructType([\n",
    "  StructField('unique_id', StringType()),  \n",
    "  StructField('ds', DateType()),\n",
    "  StructField('y', DoubleType())\n",
    "  ])\n",
    " \n",
    "# read the training file into a dataframe\n",
    "train = spark.read.parquet(\n",
    "  's3://m5-benchmarks/data/train/m5-target.parquet', \n",
    "  header=True, \n",
    "  schema=train_schema\n",
    " )\n",
    " \n",
    "# make the dataframe queriable as a temporary view\n",
    "train.createOrReplaceTempView('train')\n"
   ]
  },
  {
   "cell_type": "code",
   "execution_count": null,
   "metadata": {},
   "outputs": [
    {
     "data": {
      "text/html": [
       "<style scoped>\n",
       "  .ansiout {\n",
       "    display: block;\n",
       "    unicode-bidi: embed;\n",
       "    white-space: pre-wrap;\n",
       "    word-wrap: break-word;\n",
       "    word-break: break-all;\n",
       "    font-family: \"Source Code Pro\", \"Menlo\", monospace;;\n",
       "    font-size: 13px;\n",
       "    color: #555;\n",
       "    margin-left: 4px;\n",
       "    line-height: 19px;\n",
       "  }\n",
       "</style>\n",
       "<div class=\"ansiout\"></div>"
      ]
     },
     "metadata": {
      "application/vnd.databricks.v1+output": {
       "addedWidgets": {},
       "arguments": {},
       "data": "<div class=\"ansiout\"></div>",
       "datasetInfos": [],
       "metadata": {},
       "removedWidgets": [],
       "type": "html"
      }
     },
     "output_type": "display_data"
    }
   ],
   "source": [
    "sql_statement = '''\n",
    "  SELECT\n",
    "    unique_id AS unique_id,\n",
    "    CAST(ds as date) as ds,\n",
    "    y as y\n",
    "  FROM train\n",
    "  '''\n",
    " \n",
    "m5_history = (\n",
    "  spark\n",
    "    .sql( sql_statement )\n",
    "    .repartition(sc.defaultParallelism, ['unique_id'])\n",
    "  ).cache()"
   ]
  },
  {
   "cell_type": "markdown",
   "metadata": {},
   "source": [
    "### Forecast function using Prophet"
   ]
  },
  {
   "cell_type": "code",
   "execution_count": null,
   "metadata": {},
   "outputs": [
    {
     "data": {
      "text/html": [
       "<style scoped>\n",
       "  .ansiout {\n",
       "    display: block;\n",
       "    unicode-bidi: embed;\n",
       "    white-space: pre-wrap;\n",
       "    word-wrap: break-word;\n",
       "    word-break: break-all;\n",
       "    font-family: \"Source Code Pro\", \"Menlo\", monospace;;\n",
       "    font-size: 13px;\n",
       "    color: #555;\n",
       "    margin-left: 4px;\n",
       "    line-height: 19px;\n",
       "  }\n",
       "</style>\n",
       "<div class=\"ansiout\"></div>"
      ]
     },
     "metadata": {
      "application/vnd.databricks.v1+output": {
       "addedWidgets": {},
       "arguments": {},
       "data": "<div class=\"ansiout\"></div>",
       "datasetInfos": [],
       "metadata": {},
       "removedWidgets": [],
       "type": "html"
      }
     },
     "output_type": "display_data"
    }
   ],
   "source": [
    "def forecast( history_pd: pd.DataFrame ) -> pd.DataFrame:\n",
    "  \n",
    "  # TRAIN MODEL AS BEFORE\n",
    "  # --------------------------------------\n",
    "  # remove missing values (more likely at day-store-item level)\n",
    "    history_pd = history_pd.dropna()\n",
    "\n",
    "    # configure the model\n",
    "    model = Prophet(\n",
    "        growth='linear',\n",
    "        daily_seasonality=False,\n",
    "        weekly_seasonality=True,\n",
    "        yearly_seasonality=True,\n",
    "        seasonality_mode='multiplicative'\n",
    "    )\n",
    "\n",
    "    # train the model\n",
    "    model.fit( history_pd )\n",
    "    # --------------------------------------\n",
    "\n",
    "    # BUILD FORECAST AS BEFORE\n",
    "    # --------------------------------------\n",
    "    # make predictions\n",
    "    future_pd = model.make_future_dataframe(\n",
    "        periods=28, \n",
    "        freq='d', \n",
    "        include_history=False\n",
    "    )\n",
    "    forecast_pd = model.predict( future_pd )  \n",
    "    # --------------------------------------\n",
    "\n",
    "    # ASSEMBLE EXPECTED RESULT SET\n",
    "    # --------------------------------------\n",
    "    # get relevant fields from forecast\n",
    "    forecast_pd['unique_id'] = history_pd['unique_id'].unique()[0]\n",
    "    f_pd = forecast_pd[['unique_id', 'ds','yhat']]\n",
    "    # --------------------------------------\n",
    "\n",
    "    # return expected dataset\n",
    "    return f_pd  "
   ]
  },
  {
   "cell_type": "code",
   "execution_count": null,
   "metadata": {},
   "outputs": [
    {
     "data": {
      "text/html": [
       "<style scoped>\n",
       "  .ansiout {\n",
       "    display: block;\n",
       "    unicode-bidi: embed;\n",
       "    white-space: pre-wrap;\n",
       "    word-wrap: break-word;\n",
       "    word-break: break-all;\n",
       "    font-family: \"Source Code Pro\", \"Menlo\", monospace;;\n",
       "    font-size: 13px;\n",
       "    color: #555;\n",
       "    margin-left: 4px;\n",
       "    line-height: 19px;\n",
       "  }\n",
       "</style>\n",
       "<div class=\"ansiout\"></div>"
      ]
     },
     "metadata": {
      "application/vnd.databricks.v1+output": {
       "addedWidgets": {},
       "arguments": {},
       "data": "<div class=\"ansiout\"></div>",
       "datasetInfos": [],
       "metadata": {},
       "removedWidgets": [],
       "type": "html"
      }
     },
     "output_type": "display_data"
    }
   ],
   "source": [
    "result_schema = StructType([\n",
    "  StructField('unique_id', StringType()), \n",
    "  StructField('ds',DateType()),\n",
    "  StructField('yhat',FloatType()),\n",
    "])"
   ]
  },
  {
   "cell_type": "markdown",
   "metadata": {},
   "source": [
    "#### Training Prophet on the M5 dataset"
   ]
  },
  {
   "cell_type": "code",
   "execution_count": null,
   "metadata": {},
   "outputs": [
    {
     "data": {
      "text/html": [
       "<style scoped>\n",
       "  .ansiout {\n",
       "    display: block;\n",
       "    unicode-bidi: embed;\n",
       "    white-space: pre-wrap;\n",
       "    word-wrap: break-word;\n",
       "    word-break: break-all;\n",
       "    font-family: \"Source Code Pro\", \"Menlo\", monospace;;\n",
       "    font-size: 13px;\n",
       "    color: #555;\n",
       "    margin-left: 4px;\n",
       "    line-height: 19px;\n",
       "  }\n",
       "</style>\n",
       "<div class=\"ansiout\">Minutes taken by Prophet on a Spark cluster: 18.23116923570633\n",
       "</div>"
      ]
     },
     "metadata": {
      "application/vnd.databricks.v1+output": {
       "addedWidgets": {},
       "arguments": {},
       "data": "<div class=\"ansiout\">Minutes taken by Prophet on a Spark cluster: 18.23116923570633\n</div>",
       "datasetInfos": [],
       "metadata": {},
       "removedWidgets": [],
       "type": "html"
      }
     },
     "output_type": "display_data"
    }
   ],
   "source": [
    "init = time()\n",
    "results = (\n",
    "  m5_history\n",
    "    .groupBy('unique_id')\n",
    "      .applyInPandas(forecast, schema=result_schema)\n",
    "    ).toPandas()\n",
    "end = time()\n",
    "print(f'Minutes taken by Prophet on a Spark cluster: {(end - init) / 60}')\n"
   ]
  },
  {
   "cell_type": "markdown",
   "metadata": {},
   "source": [
    "### Evaluating performance"
   ]
  },
  {
   "cell_type": "markdown",
   "metadata": {},
   "source": [
    "The M5 competition used the weighted root mean squared scaled error. You can find details of the metric [here](https://github.com/Mcompetitions/M5-methods/blob/master/M5-Competitors-Guide.pdf)."
   ]
  },
  {
   "cell_type": "code",
   "execution_count": null,
   "metadata": {},
   "outputs": [
    {
     "data": {
      "text/html": [
       "<style scoped>\n",
       "  .ansiout {\n",
       "    display: block;\n",
       "    unicode-bidi: embed;\n",
       "    white-space: pre-wrap;\n",
       "    word-wrap: break-word;\n",
       "    word-break: break-all;\n",
       "    font-family: \"Source Code Pro\", \"Menlo\", monospace;;\n",
       "    font-size: 13px;\n",
       "    color: #555;\n",
       "    margin-left: 4px;\n",
       "    line-height: 19px;\n",
       "  }\n",
       "</style>\n",
       "<div class=\"ansiout\"></div>"
      ]
     },
     "metadata": {
      "application/vnd.databricks.v1+output": {
       "addedWidgets": {},
       "arguments": {},
       "data": "<div class=\"ansiout\"></div>",
       "datasetInfos": [],
       "metadata": {},
       "removedWidgets": [],
       "type": "html"
      }
     },
     "output_type": "display_data"
    }
   ],
   "source": [
    "Y_hat = results.set_index(['unique_id', 'ds']).unstack()\n",
    "Y_hat = Y_hat.droplevel(0, 1).reset_index()"
   ]
  },
  {
   "cell_type": "code",
   "execution_count": null,
   "metadata": {},
   "outputs": [
    {
     "data": {
      "text/html": [
       "<style scoped>\n",
       "  .ansiout {\n",
       "    display: block;\n",
       "    unicode-bidi: embed;\n",
       "    white-space: pre-wrap;\n",
       "    word-wrap: break-word;\n",
       "    word-break: break-all;\n",
       "    font-family: \"Source Code Pro\", \"Menlo\", monospace;;\n",
       "    font-size: 13px;\n",
       "    color: #555;\n",
       "    margin-left: 4px;\n",
       "    line-height: 19px;\n",
       "  }\n",
       "</style>\n",
       "<div class=\"ansiout\"></div>"
      ]
     },
     "metadata": {
      "application/vnd.databricks.v1+output": {
       "addedWidgets": {},
       "arguments": {},
       "data": "<div class=\"ansiout\"></div>",
       "datasetInfos": [],
       "metadata": {},
       "removedWidgets": [],
       "type": "html"
      }
     },
     "output_type": "display_data"
    }
   ],
   "source": [
    "*_, S_df = M5.load('./data')\n",
    "Y_hat = S_df.merge(Y_hat, how='left', on=['unique_id'])#.drop(columns=['unique_id'])"
   ]
  },
  {
   "cell_type": "code",
   "execution_count": null,
   "metadata": {},
   "outputs": [
    {
     "data": {
      "text/html": [
       "<style scoped>\n",
       "  .ansiout {\n",
       "    display: block;\n",
       "    unicode-bidi: embed;\n",
       "    white-space: pre-wrap;\n",
       "    word-wrap: break-word;\n",
       "    word-break: break-all;\n",
       "    font-family: \"Source Code Pro\", \"Menlo\", monospace;;\n",
       "    font-size: 13px;\n",
       "    color: #555;\n",
       "    margin-left: 4px;\n",
       "    line-height: 19px;\n",
       "  }\n",
       "</style>\n",
       "<div class=\"ansiout\"></div>"
      ]
     },
     "metadata": {
      "application/vnd.databricks.v1+output": {
       "addedWidgets": {},
       "arguments": {},
       "data": "<div class=\"ansiout\"></div>",
       "datasetInfos": [],
       "metadata": {},
       "removedWidgets": [],
       "type": "html"
      }
     },
     "output_type": "display_data"
    }
   ],
   "source": [
    "wrmsse = M5Evaluation.evaluate(y_hat=Y_hat, directory='./data')"
   ]
  },
  {
   "cell_type": "code",
   "execution_count": null,
   "metadata": {},
   "outputs": [
    {
     "data": {
      "text/html": [
       "<style scoped>\n",
       "  .ansiout {\n",
       "    display: block;\n",
       "    unicode-bidi: embed;\n",
       "    white-space: pre-wrap;\n",
       "    word-wrap: break-word;\n",
       "    word-break: break-all;\n",
       "    font-family: \"Source Code Pro\", \"Menlo\", monospace;;\n",
       "    font-size: 13px;\n",
       "    color: #555;\n",
       "    margin-left: 4px;\n",
       "    line-height: 19px;\n",
       "  }\n",
       "</style>\n",
       "<div class=\"ansiout\">Out[10]: </div>"
      ]
     },
     "metadata": {
      "application/vnd.databricks.v1+output": {
       "addedWidgets": {},
       "arguments": {},
       "data": "<div class=\"ansiout\">Out[10]: </div>",
       "datasetInfos": [],
       "metadata": {},
       "removedWidgets": [],
       "type": "html"
      }
     },
     "output_type": "display_data"
    },
    {
     "data": {
      "text/html": [
       "<div>\n",
       "<style scoped>\n",
       "    .dataframe tbody tr th:only-of-type {\n",
       "        vertical-align: middle;\n",
       "    }\n",
       "\n",
       "    .dataframe tbody tr th {\n",
       "        vertical-align: top;\n",
       "    }\n",
       "\n",
       "    .dataframe thead th {\n",
       "        text-align: right;\n",
       "    }\n",
       "</style>\n",
       "<table border=\"1\" class=\"dataframe\">\n",
       "  <thead>\n",
       "    <tr style=\"text-align: right;\">\n",
       "      <th></th>\n",
       "      <th>wrmsse</th>\n",
       "    </tr>\n",
       "  </thead>\n",
       "  <tbody>\n",
       "    <tr>\n",
       "      <th>Total</th>\n",
       "      <td>0.771800</td>\n",
       "    </tr>\n",
       "    <tr>\n",
       "      <th>Level1</th>\n",
       "      <td>0.507905</td>\n",
       "    </tr>\n",
       "    <tr>\n",
       "      <th>Level2</th>\n",
       "      <td>0.586328</td>\n",
       "    </tr>\n",
       "    <tr>\n",
       "      <th>Level3</th>\n",
       "      <td>0.666686</td>\n",
       "    </tr>\n",
       "    <tr>\n",
       "      <th>Level4</th>\n",
       "      <td>0.549358</td>\n",
       "    </tr>\n",
       "    <tr>\n",
       "      <th>Level5</th>\n",
       "      <td>0.655003</td>\n",
       "    </tr>\n",
       "    <tr>\n",
       "      <th>Level6</th>\n",
       "      <td>0.647176</td>\n",
       "    </tr>\n",
       "    <tr>\n",
       "      <th>Level7</th>\n",
       "      <td>0.747047</td>\n",
       "    </tr>\n",
       "    <tr>\n",
       "      <th>Level8</th>\n",
       "      <td>0.743422</td>\n",
       "    </tr>\n",
       "    <tr>\n",
       "      <th>Level9</th>\n",
       "      <td>0.824667</td>\n",
       "    </tr>\n",
       "    <tr>\n",
       "      <th>Level10</th>\n",
       "      <td>1.207069</td>\n",
       "    </tr>\n",
       "    <tr>\n",
       "      <th>Level11</th>\n",
       "      <td>1.108780</td>\n",
       "    </tr>\n",
       "    <tr>\n",
       "      <th>Level12</th>\n",
       "      <td>1.018163</td>\n",
       "    </tr>\n",
       "  </tbody>\n",
       "</table>\n",
       "</div>"
      ]
     },
     "metadata": {
      "application/vnd.databricks.v1+output": {
       "addedWidgets": {},
       "arguments": {},
       "data": "<div>\n<style scoped>\n    .dataframe tbody tr th:only-of-type {\n        vertical-align: middle;\n    }\n\n    .dataframe tbody tr th {\n        vertical-align: top;\n    }\n\n    .dataframe thead th {\n        text-align: right;\n    }\n</style>\n<table border=\"1\" class=\"dataframe\">\n  <thead>\n    <tr style=\"text-align: right;\">\n      <th></th>\n      <th>wrmsse</th>\n    </tr>\n  </thead>\n  <tbody>\n    <tr>\n      <th>Total</th>\n      <td>0.771800</td>\n    </tr>\n    <tr>\n      <th>Level1</th>\n      <td>0.507905</td>\n    </tr>\n    <tr>\n      <th>Level2</th>\n      <td>0.586328</td>\n    </tr>\n    <tr>\n      <th>Level3</th>\n      <td>0.666686</td>\n    </tr>\n    <tr>\n      <th>Level4</th>\n      <td>0.549358</td>\n    </tr>\n    <tr>\n      <th>Level5</th>\n      <td>0.655003</td>\n    </tr>\n    <tr>\n      <th>Level6</th>\n      <td>0.647176</td>\n    </tr>\n    <tr>\n      <th>Level7</th>\n      <td>0.747047</td>\n    </tr>\n    <tr>\n      <th>Level8</th>\n      <td>0.743422</td>\n    </tr>\n    <tr>\n      <th>Level9</th>\n      <td>0.824667</td>\n    </tr>\n    <tr>\n      <th>Level10</th>\n      <td>1.207069</td>\n    </tr>\n    <tr>\n      <th>Level11</th>\n      <td>1.108780</td>\n    </tr>\n    <tr>\n      <th>Level12</th>\n      <td>1.018163</td>\n    </tr>\n  </tbody>\n</table>\n</div>",
       "datasetInfos": [],
       "metadata": {},
       "removedWidgets": [],
       "textData": null,
       "type": "htmlSandbox"
      }
     },
     "output_type": "display_data"
    }
   ],
   "source": [
    "wrmsse"
   ]
  }
 ],
 "metadata": {
  "kernelspec": {
   "display_name": "python3",
   "language": "python",
   "name": "python3"
  }
 },
 "nbformat": 4,
 "nbformat_minor": 4
}
