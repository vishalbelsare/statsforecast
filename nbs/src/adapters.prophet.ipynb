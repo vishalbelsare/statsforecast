{
 "cells": [
  {
   "cell_type": "code",
   "execution_count": null,
   "id": "fe274985-cc73-405c-a071-54ad64ff9b21",
   "metadata": {},
   "outputs": [],
   "source": [
    "#| default_exp adapters.prophet"
   ]
  },
  {
   "cell_type": "markdown",
   "id": "bc2893ba-429b-4fd0-bc90-6c8dd321b243",
   "metadata": {},
   "source": [
    "# Replace FB-Prophet\n",
    "\n",
    "> In 2017, Facebook open-sourced [Prophet](https://peerj.com/preprints/3190.pdf), with the promise of providing experts and non-experts the possibility of producing high-quality predictions. The forecasting community heavily adopted the solution, reaching millions of accumulated downloads. It became evident that its [quality is shadowed](https://www.reddit.com/r/MachineLearning/comments/wqrw8x/d_fool_me_once_shame_on_you_fool_me_twice_shame/) by simpler well-proven methods. This effort aims to provide an alternative to overcome the Prophet's memory.<br><br><div align=\"center\">\"It is important to note that false prophets sometimes prophesied accurately, ... \" <br>(Deuteronomy 13:2,5) </div>"
   ]
  },
  {
   "cell_type": "code",
   "execution_count": null,
   "id": "e0dbabcc",
   "metadata": {},
   "outputs": [],
   "source": [
    "#| hide\n",
    "import warnings\n",
    "\n",
    "from nbdev.showdoc import show_doc"
   ]
  },
  {
   "cell_type": "code",
   "execution_count": null,
   "id": "a192d24e",
   "metadata": {},
   "outputs": [],
   "source": [
    "#| hide\n",
    "warnings.simplefilter(action='ignore', category=FutureWarning)\n"
   ]
  },
  {
   "cell_type": "code",
   "execution_count": null,
   "id": "838ffafe-46b7-432b-9066-a7a3f52af6e0",
   "metadata": {},
   "outputs": [],
   "source": [
    "#| export\n",
    "import sys\n",
    "\n",
    "import pandas as pd\n",
    "from statsforecast.arima import AutoARIMA\n",
    "\n",
    "if sys.version_info.minor != 6 or (sys.platform not in ['win32', 'cygwin']): \n",
    "    try: \n",
    "        from prophet import Prophet\n",
    "    except ModuleNotFoundError as e:\n",
    "        msg = (\n",
    "            '{e}. To use prophet adapters you have to install '\n",
    "            'prophet. Please run `pip install prophet`. '\n",
    "            'Note that it is recommended to install prophet '\n",
    "            'using conda environments due to dependencies.'\n",
    "        )\n",
    "        raise ModuleNotFoundError(msg) from e\n",
    "elif sys.version_info.minor == 6 and (sys.platform in ['win32', 'cygwin']):\n",
    "    try: \n",
    "        from fbprophet import Prophet\n",
    "    except ModuleNotFoundError as e:\n",
    "        msg = (\n",
    "            '{e}. To use prophet adapters you have to install '\n",
    "            'fbprophet. Please run `pip install fbprophet`. '\n",
    "            'Note that it is recommended to install prophet '\n",
    "            'using conda environments due to dependencies.'\n",
    "        )\n",
    "        raise ModuleNotFoundError(msg) from e"
   ]
  },
  {
   "cell_type": "markdown",
   "id": "cd013cee",
   "metadata": {},
   "source": [
    "# 1. AutoARIMA Adapter"
   ]
  },
  {
   "cell_type": "markdown",
   "id": "2e175b82-e452-48c2-859a-012da60f1259",
   "metadata": {},
   "source": [
    "## AutoArimaProphet"
   ]
  },
  {
   "cell_type": "code",
   "execution_count": null,
   "id": "00253a27-0cf8-4589-bea4-fe4fa2b2fcb4",
   "metadata": {},
   "outputs": [],
   "source": [
    "#| export\n",
    "class AutoARIMAProphet(Prophet):\n",
    "    \"\"\"AutoARIMAProphet adapter.\n",
    "\n",
    "    Returns best ARIMA model using external variables created by the Prophet interface.\n",
    "    This class receives as parameters the same as prophet.Prophet and uses a `models.AutoARIMA`\n",
    "    backend.\n",
    "\n",
    "    If your forecasting pipeline uses Prophet the `AutoARIMAProphet` adapter helps to\n",
    "    easily substitute Prophet with an AutoARIMA.\n",
    "\n",
    "    Parameters\n",
    "    ----------\n",
    "    growth : string\n",
    "        'linear', 'logistic' or 'flat' to specify a linear, logistic or flat trend.\n",
    "    changepoints : List of dates\n",
    "        Potential changepoints. Otherwise selected automatically.\n",
    "    n_changepoints : int\n",
    "        Number of potential changepoints to include.\n",
    "    changepoint_range : float\n",
    "        Proportion of history in which trend changepoints will be estimated.\n",
    "    yearly_seasonality : str, bool or int\n",
    "        Fit yearly seasonality. Can be 'auto', True, False, or a number of Fourier terms to generate.\n",
    "    weekly_seasonality : str, bool or int\n",
    "        Fit weekly seasonality. Can be 'auto', True, False, or a number of Fourier terms to generate.\n",
    "    daily_seasonality : str, bool or int\n",
    "        Fit daily seasonality. Can be 'auto', True, False, or a number of Fourier terms to generate.\n",
    "    holidays : pandas.DataFrame\n",
    "        DataFrame with columns holiday (string) and ds (date type).\n",
    "    interval_width : float\n",
    "        Uncertainty forecast intervals width. `StatsForecast`'s level\n",
    "\n",
    "    Notes\n",
    "    -----\n",
    "    You can create automated exogenous variables from the Prophet data processing pipeline\n",
    "    these exogenous will be included into `AutoARIMA`'s exogenous features. Parameters like \n",
    "    `seasonality_mode`, `seasonality_prior_scale`, `holidays_prior_scale`, `changepoint_prior_scale`,\n",
    "    `mcmc_samples`, `uncertainty_samples`, `stan_backend` are Prophet exclusive.\n",
    "\n",
    "    References\n",
    "    ----------\n",
    "    [Sean J. Taylor, Benjamin Letham (2017). \"Prophet Forecasting at Scale\"](https://peerj.com/preprints/3190.pdf)\n",
    "    \n",
    "    [Oskar Triebe, Hansika Hewamalage, Polina Pilyugina, Nikolay Laptev, Christoph Bergmeir, Ram Rajagopal (2021). \"NeuralProphet: Explainable Forecasting at Scale\".](https://arxiv.org/pdf/2111.15397.pdf)\n",
    "\n",
    "    [Rob J. Hyndman, Yeasmin Khandakar (2008). \"Automatic Time Series Forecasting: The forecast package for R\"](https://www.jstatsoft.org/article/view/v027i03).\n",
    "    \"\"\"\n",
    "    def __init__(self, \n",
    "                 growth='linear',\n",
    "                 changepoints=None,\n",
    "                 n_changepoints=25,\n",
    "                 changepoint_range=0.8,\n",
    "                 yearly_seasonality='auto',\n",
    "                 weekly_seasonality='auto',\n",
    "                 daily_seasonality='auto',\n",
    "                 holidays=None,\n",
    "                 seasonality_mode='additive',\n",
    "                 seasonality_prior_scale=10.0,\n",
    "                 holidays_prior_scale=10.0,\n",
    "                 changepoint_prior_scale=0.05,\n",
    "                 mcmc_samples=0,\n",
    "                 interval_width=0.80,\n",
    "                 uncertainty_samples=1000,\n",
    "                 stan_backend=None,\n",
    "                 d=None,\n",
    "                 D=None,\n",
    "                 max_p=5,\n",
    "                 max_q=5,\n",
    "                 max_P= 2,\n",
    "                 max_Q= 2,\n",
    "                 max_order= 5,\n",
    "                 max_d=2,\n",
    "                 max_D=1,\n",
    "                 start_p=2,\n",
    "                 start_q=2,\n",
    "                 start_P=1,\n",
    "                 start_Q=1,\n",
    "                 stationary=False,\n",
    "                 seasonal=True,\n",
    "                 ic='aicc',\n",
    "                 stepwise=True,\n",
    "                 nmodels=94,\n",
    "                 trace=False,\n",
    "                 approximation=False,\n",
    "                 method=None,\n",
    "                 truncate=None,\n",
    "                 test='kpss',\n",
    "                 test_kwargs=None,\n",
    "                 seasonal_test='seas',\n",
    "                 seasonal_test_kwargs=None,\n",
    "                 allowdrift=False,\n",
    "                 allowmean=False,\n",
    "                 blambda=None,\n",
    "                 biasadj=False,\n",
    "                 period=1):\n",
    "        Prophet.__init__(self,\n",
    "                         growth,\n",
    "                         changepoints,\n",
    "                         n_changepoints,\n",
    "                         changepoint_range,\n",
    "                         yearly_seasonality,\n",
    "                         weekly_seasonality,\n",
    "                         daily_seasonality,\n",
    "                         holidays,\n",
    "                         seasonality_mode,\n",
    "                         seasonality_prior_scale,\n",
    "                         holidays_prior_scale,\n",
    "                         changepoint_prior_scale,\n",
    "                         mcmc_samples,\n",
    "                         interval_width,\n",
    "                         uncertainty_samples,\n",
    "                         stan_backend)\n",
    "        self.arima = AutoARIMA(d=d,\n",
    "                               D=D,\n",
    "                               max_p=max_p,\n",
    "                               max_q=max_q,\n",
    "                               max_P=max_P,\n",
    "                               max_Q=max_Q,\n",
    "                               max_order=max_order,\n",
    "                               max_d=max_d,\n",
    "                               max_D=max_D,\n",
    "                               start_p=start_p,\n",
    "                               start_q=start_q,\n",
    "                               start_P=start_P,\n",
    "                               start_Q=start_Q,\n",
    "                               stationary=stationary,\n",
    "                               seasonal=seasonal,\n",
    "                               ic=ic,\n",
    "                               stepwise=stepwise,\n",
    "                               nmodels=nmodels,\n",
    "                               trace=trace,\n",
    "                               approximation=approximation,\n",
    "                               method=method,\n",
    "                               truncate=truncate,\n",
    "                               test=test,\n",
    "                               test_kwargs=test_kwargs,\n",
    "                               seasonal_test=seasonal_test,\n",
    "                               seasonal_test_kwargs=seasonal_test_kwargs,\n",
    "                               allowdrift=allowdrift,\n",
    "                               allowmean=allowmean,\n",
    "                               blambda=blambda,\n",
    "                               biasadj=biasadj,\n",
    "                               period=period)\n",
    "    \n",
    "    def fit(self, df, disable_seasonal_features=True):\n",
    "        \"\"\"Fit the AutoARIMAProphet adapter.\n",
    "\n",
    "        Parameters\n",
    "        ----------\n",
    "        df : pandas.DataFrame\n",
    "            DataFrame with columns ds (date type) and y, the time series.\n",
    "        disable_seasonal_features : bool (default=True)\n",
    "            Disable Prophet's seasonal features.\n",
    "        \n",
    "        Returns\n",
    "        -------\n",
    "        AutoARIMAProphet\n",
    "            Adapter object with `AutoARIMA` fitted model.\n",
    "        \"\"\"\n",
    "        if self.history is not None:\n",
    "            raise Exception('Prophet object can only be fit once. '\n",
    "                            'Instantiate a new object.')\n",
    "        if ('ds' not in df) or ('y' not in df):\n",
    "            raise ValueError(\n",
    "                'Dataframe must have columns \"ds\" and \"y\" with the dates and '\n",
    "                'values respectively.'\n",
    "            )\n",
    "        history = df[df['y'].notnull()].copy()\n",
    "        if history.shape[0] < 2:\n",
    "            raise ValueError('Dataframe has less than 2 non-NaN rows.')\n",
    "        self.history_dates = pd.to_datetime(pd.Series(df['ds'].unique(), name='ds')).sort_values()\n",
    "\n",
    "        history = self.setup_dataframe(history, initialize_scales=True)\n",
    "        self.history = history\n",
    "        self.set_auto_seasonalities()\n",
    "        seasonal_features, prior_scales, component_cols, modes = (\n",
    "            self.make_all_seasonality_features(history))\n",
    "        self.train_component_cols = component_cols\n",
    "        self.component_modes = modes\n",
    "        if disable_seasonal_features:\n",
    "            seas = tuple(self.seasonalities.keys())\n",
    "            seasonal_features = seasonal_features.loc[:,~seasonal_features.columns.str.startswith(seas)]\n",
    "        self.xreg_cols = seasonal_features.columns\n",
    "        \n",
    "        y = history['y'].values\n",
    "        X = seasonal_features.values if not seasonal_features.empty else None\n",
    "        self.arima = self.arima.fit(y=y, X=X)\n",
    "\n",
    "        return self\n",
    "\n",
    "    def predict(self, df=None):\n",
    "        \"\"\"Predict using the AutoARIMAProphet adapter.\n",
    "        \n",
    "        Parameters\n",
    "        ----------\n",
    "        df : pandas.DataFrame\n",
    "            DataFrame with columns ds (date type) and y, the time series.\n",
    "            \n",
    "        Returns\n",
    "        -------\n",
    "        pandas.DataFrame\n",
    "            DataFrame with the forecast components.\n",
    "        \"\"\"\n",
    "        if self.history is None:\n",
    "            raise Exception('Model has not been fit.')\n",
    "\n",
    "        if df is None:\n",
    "            df = self.history.copy()\n",
    "        else:\n",
    "            if df.shape[0] == 0:\n",
    "                raise ValueError('Dataframe has no rows.')\n",
    "            df = self.setup_dataframe(df.copy())\n",
    "            \n",
    "        seasonal_features = self.make_all_seasonality_features(df)[0].loc[:, self.xreg_cols]\n",
    "        \n",
    "        ds_forecast = set(df['ds'])\n",
    "        h = len(ds_forecast - set(self.history['ds']))\n",
    "        if h > 0:\n",
    "            X = seasonal_features.values[-h:] if not seasonal_features.empty else None\n",
    "            fcsts_df = self.arima.predict(h=h, X=X,\n",
    "                                          level=int(100*self.interval_width))\n",
    "        else:\n",
    "            fcsts_df = pd.DataFrame()\n",
    "        if len(ds_forecast) > h: \n",
    "            in_sample = self.arima.predict_in_sample(level=int(100*self.interval_width))\n",
    "            fcsts_df = pd.concat([in_sample, fcsts_df]).reset_index(drop=True)\n",
    "\n",
    "        yhat = fcsts_df.pop('mean')\n",
    "        fcsts_df.columns = ['yhat_lower', 'yhat_upper']\n",
    "        fcsts_df.insert(0, 'yhat', yhat)\n",
    "        fcsts_df.insert(0, 'ds', df['ds'])\n",
    "            \n",
    "        return fcsts_df"
   ]
  },
  {
   "cell_type": "code",
   "execution_count": null,
   "id": "13093dd0",
   "metadata": {},
   "outputs": [],
   "source": [
    "show_doc(AutoARIMAProphet, title_level=3)"
   ]
  },
  {
   "cell_type": "code",
   "execution_count": null,
   "id": "b8cb60a4",
   "metadata": {},
   "outputs": [],
   "source": [
    "show_doc(AutoARIMAProphet.fit, title_level=3)"
   ]
  },
  {
   "cell_type": "code",
   "execution_count": null,
   "id": "c52a7159",
   "metadata": {},
   "outputs": [],
   "source": [
    "show_doc(AutoARIMAProphet.predict, title_level=3)"
   ]
  },
  {
   "cell_type": "markdown",
   "id": "016a5fd2",
   "metadata": {},
   "source": [
    "# 2. Prophet Substitution Example"
   ]
  },
  {
   "cell_type": "markdown",
   "id": "6136672f-d34b-4833-8782-811935cd2593",
   "metadata": {},
   "source": [
    "### Quick Start\n",
    "\n",
    "In this example, we revisit the time series of the log daily page views for the Wikipedia page for [Peyton Manning](https://en.wikipedia.org/wiki/Peyton_Manning). The dataset was scraped this data using the [WikipediaTrend](https://cran.r-project.org/web/packages/wikipediatrend/index.html) package in R.\n",
    "\n",
    "The Peyton Manning dataset was selected to illustrate Prophet's features, like multiple seasonality, changing growth rates, and the ability to model special days (such as Manning's playoff and SuperBowl appearances). The original CSV is available [here](https://github.com/facebook/prophet/blob/main/examples/example_wp_log_peyton_manning.csv).\n",
    "\n",
    "Here we show that `AutoARIMA` can improve performance by borrowing the `Prophet`'s feature preprocessing.\n",
    "\n",
    "### Inputs\n",
    "\n",
    "The `AutoARIMAProphet` adapter uses `Prophet`'s inputs, a pandas dataframe with two columns: `ds` and `y`. The `ds` (datestamp) column should be of a format expected by Pandas, ideally 'YYYY-MM-DD' for a date or 'YYYY-MM-DD HH:MM:SS' for a timestamp. The `y` column must be numeric, and represents the measurement we wish to forecast."
   ]
  },
  {
   "cell_type": "code",
   "execution_count": null,
   "id": "5e9ba8d7-4890-457e-956f-d6d0269fc1f6",
   "metadata": {},
   "outputs": [],
   "source": [
    "df = pd.read_csv('https://raw.githubusercontent.com/facebook/prophet/main/examples/example_wp_log_peyton_manning.csv')\n",
    "df.head()"
   ]
  },
  {
   "cell_type": "markdown",
   "id": "312bd903-a199-4412-926f-33d57a68d2b8",
   "metadata": {},
   "source": [
    "## 2.1 Univariate Prophet\n",
    "\n",
    "Here we forecast with `Prophet` without external regressors. We first instantiate a new `Prophet` object, and define its forecasting procedure into its constructor. After that a classic sklearn `fit` and `predict` is used to obtain the predictions."
   ]
  },
  {
   "cell_type": "code",
   "execution_count": null,
   "id": "f78090d4-dd5e-445a-88ec-fa7871a34ece",
   "metadata": {},
   "outputs": [],
   "source": [
    "m = Prophet(daily_seasonality=False)\n",
    "m.fit(df)\n",
    "future = m.make_future_dataframe(365)\n",
    "forecast = m.predict(future)"
   ]
  },
  {
   "cell_type": "code",
   "execution_count": null,
   "id": "7e956615",
   "metadata": {},
   "outputs": [],
   "source": [
    "fig = m.plot(forecast)"
   ]
  },
  {
   "cell_type": "markdown",
   "id": "3d62ef5b-a9c1-49ce-8c61-48184087bc8a",
   "metadata": {},
   "source": [
    "Here we forecast with `AutoARIMAProphet` adapter without external regressors. It inherits the `Prophet` constructor as well as its `fit` and `predict` methods. \n",
    "\n",
    "With the class `AutoARIMAProphet` you can simply substitute `Prophet` and you'll be training an `AutoARIMA` model without changing anything in your forecasting pipeline."
   ]
  },
  {
   "cell_type": "code",
   "execution_count": null,
   "id": "354945ec-b101-4d37-90da-a8fe88d4e372",
   "metadata": {},
   "outputs": [],
   "source": [
    "%%capture\n",
    "m = AutoARIMAProphet(daily_seasonality=False)\n",
    "m.fit(df)\n",
    "# m.fit(df, disable_seasonal_features=False) # Uncomment for better AutoARIMA predictions\n",
    "future = m.make_future_dataframe(365)\n",
    "forecast = m.predict(future)"
   ]
  },
  {
   "cell_type": "code",
   "execution_count": null,
   "id": "9ea6eff3",
   "metadata": {},
   "outputs": [],
   "source": [
    "fig = m.plot(forecast)"
   ]
  },
  {
   "cell_type": "markdown",
   "id": "6c7034db-3440-43ce-98c0-54a598da04d6",
   "metadata": {},
   "source": [
    "## 2.2 Holiday Prophet"
   ]
  },
  {
   "cell_type": "markdown",
   "id": "d60025a0-b671-48f1-b10c-694797f87033",
   "metadata": {},
   "source": [
    "Usually `Prophet` pipelines include the usage of external regressors such as **holidays**.\n",
    "\n",
    "Suppose you want to include holidays or other recurring calendar events, you can create a pandas.DataFrame for them. The DataFrame needs two columns [`holiday`, `ds`] and a row for each holiday. It requires all the occurrences of the holiday (as far as the historical data allows) and the future events of the holiday. If the future does not have the holidays registered, they will be modeled but not included in the forecast.\n",
    "\n",
    "You can also include into the events DataFrame, `lower_window` and `upper_window` that extends the effect of the holidays through dates to [`lower_window`, `upper_window`] days around the date. For example if you wanted to account for Christmas Eve in addition to Christmas you’d include `lower_window=-1`,`upper_window=0`, or Black Friday in addition to Thanksgiving, you’d include `lower_window=0`,`upper_window=1`.\n",
    "\n",
    "Here we Peyton Manning’s playoff appearances dates:"
   ]
  },
  {
   "cell_type": "code",
   "execution_count": null,
   "id": "b912a786-200a-4bbc-a2ac-6ab483311758",
   "metadata": {},
   "outputs": [],
   "source": [
    "playoffs = pd.DataFrame({\n",
    "  'holiday': 'playoff',\n",
    "  'ds': pd.to_datetime(['2008-01-13', '2009-01-03', '2010-01-16',\n",
    "                        '2010-01-24', '2010-02-07', '2011-01-08',\n",
    "                        '2013-01-12', '2014-01-12', '2014-01-19',\n",
    "                        '2014-02-02', '2015-01-11', '2016-01-17',\n",
    "                        '2016-01-24', '2016-02-07']),\n",
    "  'lower_window': 0,\n",
    "  'upper_window': 1,\n",
    "})\n",
    "superbowls = pd.DataFrame({\n",
    "  'holiday': 'superbowl',\n",
    "  'ds': pd.to_datetime(['2010-02-07', '2014-02-02', '2016-02-07']),\n",
    "  'lower_window': 0,\n",
    "  'upper_window': 1,\n",
    "})\n",
    "holidays = pd.concat((playoffs, superbowls))"
   ]
  },
  {
   "cell_type": "code",
   "execution_count": null,
   "id": "9d521d01-73b7-4a94-98a0-8a3e37ea42c9",
   "metadata": {},
   "outputs": [],
   "source": [
    "%%capture\n",
    "m = Prophet(daily_seasonality=False, holidays=holidays)\n",
    "m.add_country_holidays(country_name='US')\n",
    "m.fit(df)\n",
    "future = m.make_future_dataframe(365)\n",
    "forecast = m.predict(future)"
   ]
  },
  {
   "cell_type": "code",
   "execution_count": null,
   "id": "e2b9afc7-39da-4c20-8eb0-09d73356fb64",
   "metadata": {},
   "outputs": [],
   "source": [
    "fig = m.plot(forecast)"
   ]
  },
  {
   "cell_type": "markdown",
   "id": "a85ccfcd-0cde-4d26-bddf-aa5b51d6d57b",
   "metadata": {},
   "source": [
    "The class `AutoARIMAProphet` adapter allows to handle these scenarios to fit an `AutoARIMA` model with exogenous variables.\n",
    "\n",
    "You can enjoy your Prophet pipelines with the improved performance of a classic ARIMA."
   ]
  },
  {
   "cell_type": "code",
   "execution_count": null,
   "id": "2ddb7056-44fc-4fdb-86d1-322da0be329c",
   "metadata": {},
   "outputs": [],
   "source": [
    "%%capture\n",
    "m = AutoARIMAProphet(daily_seasonality=False,\n",
    "                     holidays=holidays)\n",
    "m.add_country_holidays(country_name='US')\n",
    "m.fit(df)\n",
    "# m.fit(df, disable_seasonal_features=False) # Uncomment for better AutoARIMA predictions\n",
    "future = m.make_future_dataframe(365)\n",
    "forecast = m.predict(future)"
   ]
  },
  {
   "cell_type": "code",
   "execution_count": null,
   "id": "35ecc905-c78e-4254-9ccc-0e23872635e7",
   "metadata": {},
   "outputs": [],
   "source": [
    "fig = m.plot(forecast)"
   ]
  },
  {
   "cell_type": "code",
   "execution_count": null,
   "id": "1244a771",
   "metadata": {},
   "outputs": [],
   "source": []
  }
 ],
 "metadata": {
  "kernelspec": {
   "display_name": "python3",
   "language": "python",
   "name": "python3"
  }
 },
 "nbformat": 4,
 "nbformat_minor": 5
}
