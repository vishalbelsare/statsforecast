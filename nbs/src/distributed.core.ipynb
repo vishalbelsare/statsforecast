{
 "cells": [
  {
   "cell_type": "code",
   "execution_count": null,
   "id": "15392f6f",
   "metadata": {},
   "outputs": [],
   "source": [
    "#| hide\n",
    "%load_ext autoreload\n",
    "%autoreload 2"
   ]
  },
  {
   "cell_type": "markdown",
   "id": "12fa25a4",
   "metadata": {},
   "source": [
    "# Core"
   ]
  },
  {
   "cell_type": "code",
   "execution_count": null,
   "id": "06732b96-bd80-4a4d-b9a2-4f95c7a82331",
   "metadata": {},
   "outputs": [],
   "source": [
    "#| hide\n",
    "from fastcore.test import test_eq"
   ]
  },
  {
   "cell_type": "code",
   "execution_count": null,
   "id": "bc16100a",
   "metadata": {},
   "outputs": [],
   "source": [
    "#| hide\n",
    "from typing import Any\n",
    "\n",
    "from statsforecast.core import _StatsForecast, ParallelBackend"
   ]
  },
  {
   "cell_type": "code",
   "execution_count": null,
   "id": "b3f4f5d0-48e5-4ee4-a593-78eb2c631b6b",
   "metadata": {},
   "outputs": [],
   "source": [
    "#| hide\n",
    "from statsforecast import StatsForecast\n",
    "from statsforecast.models import Naive\n",
    "from statsforecast.utils import generate_series"
   ]
  },
  {
   "cell_type": "code",
   "execution_count": null,
   "id": "49044ce2-3525-4053-b292-08b438c0f5df",
   "metadata": {},
   "outputs": [],
   "source": [
    "#| hide\n",
    "df = generate_series(10).reset_index()\n",
    "df['unique_id'] = df['unique_id'].astype(str)\n",
    "\n",
    "backend = ParallelBackend()\n",
    "#forecast\n",
    "fcst = backend.forecast(df, models=[Naive()], freq='D', h=12)\n",
    "fcst_stats = StatsForecast(models=[Naive()], freq='D').forecast(df=df, h=12)\n",
    "test_eq(fcst, fcst_stats)\n",
    "#cross validation\n",
    "fcst = backend.cross_validation(df, models=[Naive()], freq='D', h=12)\n",
    "fcst_stats = StatsForecast(models=[Naive()], freq='D').cross_validation(df=df, h=12)\n",
    "test_eq(fcst, fcst_stats)\n",
    "# fallback model\n",
    "class FailNaive:\n",
    "    def forecast(self):\n",
    "        pass\n",
    "    def __repr__(self):\n",
    "        return 'Naive'\n",
    "fcst = backend.forecast(df, models=[FailNaive()], freq='D', fallback_model=Naive(), h=12)\n",
    "fcst_stats = StatsForecast(models=[Naive()], freq='D').forecast(df=df, h=12)\n",
    "test_eq(fcst, fcst_stats)\n",
    "\n",
    "#cross validation\n",
    "fcst = backend.cross_validation(df, models=[FailNaive()], freq='D', fallback_model=Naive(), h=12)\n",
    "fcst_stats = StatsForecast(models=[Naive()], freq='D').cross_validation(df=df, h=12)\n",
    "test_eq(fcst, fcst_stats)"
   ]
  }
 ],
 "metadata": {
  "kernelspec": {
   "display_name": "python3",
   "language": "python",
   "name": "python3"
  }
 },
 "nbformat": 4,
 "nbformat_minor": 5
}
